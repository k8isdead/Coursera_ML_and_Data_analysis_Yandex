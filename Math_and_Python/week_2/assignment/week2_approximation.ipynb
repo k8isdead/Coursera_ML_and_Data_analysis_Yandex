{
 "cells": [
  {
   "cell_type": "markdown",
   "metadata": {},
   "source": []
  },
  {
   "cell_type": "code",
   "execution_count": 7,
   "metadata": {},
   "outputs": [],
   "source": [
    "#импортируем нужные библиотеки\n",
    "import numpy\n",
    "import matplotlib.pyplot as plt\n",
    "%matplotlib inline\n",
    "#Вычисляем функцию, которая вернет результат вычисления функции\n",
    "def xfunct(x):\n",
    "    return numpy.sin(x/5)*numpy.exp(x/10)+5*numpy.exp(-x/2)"
   ]
  },
  {
   "cell_type": "code",
   "execution_count": 8,
   "metadata": {},
   "outputs": [
    {
     "data": {
      "text/plain": [
       "array([ 3.43914511, -0.18692825])"
      ]
     },
     "execution_count": 8,
     "metadata": {},
     "output_type": "execute_result"
    }
   ],
   "source": [
    "#Решаем первую задачу: Сформируйте систему линейных уравнений\n",
    "m1 = numpy.array([[1,1],[1,15]])\n",
    "v1 = numpy.array([xfunct(1), xfunct(15)])\n",
    "result = numpy.linalg.solve(m1,v1)\n",
    "result"
   ]
  },
  {
   "cell_type": "code",
   "execution_count": 9,
   "metadata": {},
   "outputs": [
    {
     "name": "stdout",
     "output_type": "stream",
     "text": [
      "[ 3.32512949 -0.06531159 -0.00760104]\n"
     ]
    }
   ],
   "source": [
    "#Решаем вторую задачу\n",
    "w2_m1 = numpy.array([\n",
    "                        [1, 1,  (1**2)],\n",
    "                        [1, 8,  (8**2)],\n",
    "                        [1, 15, (15**2)]\n",
    "                    ])\n",
    "w2_v1  = numpy.array([xfunct(1), xfunct(8), xfunct(15)])\n",
    "result = numpy.linalg.solve(w2_m1,w2_v1)\n",
    "print(result)"
   ]
  },
  {
   "cell_type": "code",
   "execution_count": 10,
   "metadata": {},
   "outputs": [
    {
     "name": "stdout",
     "output_type": "stream",
     "text": [
      "[ 4.36264154 -1.29552587  0.19333685 -0.00823565]\n"
     ]
    }
   ],
   "source": [
    "#Решаем третью задачу\n",
    "w3_m1 = numpy.array([\n",
    "                     [1, 1,  (1**2),  (1**3)],\n",
    "                     [1, 4,  (4**2),  (4**3)],\n",
    "                     [1, 10, (10**2), (10**3)],\n",
    "                     [1, 15, (15**2), (15**3)]\n",
    "                    ])\n",
    "\n",
    "w3_v1 = numpy.array([xfunct(1), xfunct(4), xfunct(10), xfunct(15)])\n",
    "result = numpy.linalg.solve(w3_m1,w3_v1)\n",
    "print(result)"
   ]
  },
  {
   "cell_type": "code",
   "execution_count": 11,
   "metadata": {},
   "outputs": [
    {
     "name": "stdout",
     "output_type": "stream",
     "text": [
      "4.36 -1.3 0.19 -0.01\n"
     ]
    }
   ],
   "source": [
    "#Cохраняем результат в файл:\n",
    "f1 = open('submission-2.txt','w')\n",
    "str = (f'{round(result[0],2)} {round(result[1],2)} {round(result[2],2)} {round(result[3],2)}')\n",
    "f1.write(str)\n",
    "print(str)\n",
    "f1.close();"
   ]
  },
  {
   "cell_type": "code",
   "execution_count": null,
   "metadata": {},
   "outputs": [],
   "source": []
  }
 ],
 "metadata": {
  "kernelspec": {
   "display_name": "Python 3",
   "language": "python",
   "name": "python3"
  },
  "language_info": {
   "codemirror_mode": {
    "name": "ipython",
    "version": 3
   },
   "file_extension": ".py",
   "mimetype": "text/x-python",
   "name": "python",
   "nbconvert_exporter": "python",
   "pygments_lexer": "ipython3",
   "version": "3.8.3"
  }
 },
 "nbformat": 4,
 "nbformat_minor": 4
}
