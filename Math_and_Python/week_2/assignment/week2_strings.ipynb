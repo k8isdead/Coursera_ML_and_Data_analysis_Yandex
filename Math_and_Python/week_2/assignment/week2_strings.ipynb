{
 "cells": [
  {
   "cell_type": "code",
   "execution_count": 67,
   "metadata": {},
   "outputs": [],
   "source": [
    "from scipy import spatial as sp\n",
    "import numpy as np\n",
    "import re"
   ]
  },
  {
   "cell_type": "code",
   "execution_count": 77,
   "metadata": {},
   "outputs": [
    {
     "name": "stdout",
     "output_type": "stream",
     "text": [
      "21\n",
      "[0.7327387580875756, 6] [0.7770887149698589, 4] [0.8250364469440588, 21]\n"
     ]
    }
   ],
   "source": [
    "file_obj = open('sentences.txt', 'r')\n",
    "k = 0\n",
    "sentence_count = 0\n",
    "unique_index = 0\n",
    "dict = {}\n",
    "\n",
    "for line in file_obj:\n",
    "    str = line.strip()\n",
    "    str = str.lower()\n",
    "    arr = re.split('[^a-z]', str)\n",
    "    for i in range(len(arr)):\n",
    "        if (arr[i] == '') == False :\n",
    "            if (arr[i] in dict) == False:\n",
    "                dict[arr[i]] = unique_index\n",
    "                unique_index += 1\n",
    "    sentence_count += 1\n",
    "matrix = np.zeros((sentence_count, len(dict)))\n",
    "answers_arr = []\n",
    "for i in range(1, sentence_count):\n",
    "    answers_arr.append([sp.distance.cosine(matrix[0], matrix[i]), i])\n",
    "print(len(answers_arr))\n",
    "answers_arr.sort()\n",
    "print(answers_arr[0], answers_arr[1], answers_arr[2])"
   ]
  },
  {
   "cell_type": "code",
   "execution_count": null,
   "metadata": {},
   "outputs": [],
   "source": []
  }
 ],
 "metadata": {
  "kernelspec": {
   "display_name": "Python 3",
   "language": "python",
   "name": "python3"
  },
  "language_info": {
   "codemirror_mode": {
    "name": "ipython",
    "version": 3
   },
   "file_extension": ".py",
   "mimetype": "text/x-python",
   "name": "python",
   "nbconvert_exporter": "python",
   "pygments_lexer": "ipython3",
   "version": "3.8.3"
  }
 },
 "nbformat": 4,
 "nbformat_minor": 4
}
